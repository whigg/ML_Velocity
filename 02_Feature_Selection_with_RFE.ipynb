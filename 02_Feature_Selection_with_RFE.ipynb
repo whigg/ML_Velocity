{
 "cells": [
  {
   "cell_type": "markdown",
   "metadata": {},
   "source": [
    "# Velocity - Feature Selection and RFE\n"
   ]
  },
  {
   "cell_type": "code",
   "execution_count": 1,
   "metadata": {},
   "outputs": [],
   "source": [
    "%matplotlib inline"
   ]
  },
  {
   "cell_type": "code",
   "execution_count": 2,
   "metadata": {},
   "outputs": [],
   "source": [
    "import matplotlib.pyplot as plt\n",
    "plt.rcParams.update({'figure.figsize': (15, 6)})\n",
    "import os, sys\n",
    "import numpy as np\n",
    "import pandas as pd\n",
    "from giuh_helpers import tic, toc"
   ]
  },
  {
   "cell_type": "markdown",
   "metadata": {},
   "source": [
    "# Load saved data from csv file"
   ]
  },
  {
   "cell_type": "code",
   "execution_count": 3,
   "metadata": {},
   "outputs": [],
   "source": [
    "# Load Data from CSV file\n",
    "df = pd.read_csv('data/velocity_regressors3.csv', index_col='site_no')\n",
    "df.index = df.index.astype(str).str.zfill(8)"
   ]
  },
  {
   "cell_type": "code",
   "execution_count": 4,
   "metadata": {},
   "outputs": [],
   "source": [
    "assert(len(df)==len(df.dropna())) # check no missing values"
   ]
  },
  {
   "cell_type": "code",
   "execution_count": 5,
   "metadata": {},
   "outputs": [],
   "source": [
    "# Using machine learning\n",
    "from sklearn import metrics\n",
    "from sklearn.preprocessing import StandardScaler\n",
    "\n",
    "from sklearn import linear_model\n",
    "from sklearn import ensemble\n",
    "\n",
    "from sklearn.model_selection import train_test_split\n",
    "from sklearn.model_selection import cross_val_score, KFold #KFold is changed\n",
    "from sklearn.model_selection import GridSearchCV\n",
    "\n",
    "randomseed = 28\n",
    "cv = KFold(n_splits=10, shuffle=True,random_state=randomseed)"
   ]
  },
  {
   "cell_type": "code",
   "execution_count": 6,
   "metadata": {},
   "outputs": [],
   "source": [
    "data = df\n",
    "response = 'VELOCITY'\n",
    "y = data[response]\n",
    "X = data.drop([response], axis=1)#.values\n",
    "# Split into training and test part\n",
    "X_train, X_test, y_train, y_test = train_test_split(X, y, test_size=.2, random_state=randomseed)"
   ]
  },
  {
   "cell_type": "markdown",
   "metadata": {},
   "source": [
    "## 1. Model Selection using Recursive Feature Elimination (RFE)\n",
    "RFE algorithm select features by recursively considering smaller and smaller sets of features"
   ]
  },
  {
   "cell_type": "code",
   "execution_count": 7,
   "metadata": {},
   "outputs": [],
   "source": [
    "from sklearn.feature_selection import RFE\n",
    "from collections import OrderedDict\n"
   ]
  },
  {
   "cell_type": "code",
   "execution_count": 8,
   "metadata": {},
   "outputs": [],
   "source": [
    "def k_fold_val(grid, sel_features):\n",
    "    ''' Fit estimator with a subset of features\n",
    "        Return: test score\n",
    "    '''\n",
    "    grid.fit(X_train[sel_features], y_train)\n",
    "    test_score = grid.score(X_test[sel_features], y_test)\n",
    "    return test_score"
   ]
  },
  {
   "cell_type": "code",
   "execution_count": 9,
   "metadata": {},
   "outputs": [
    {
     "name": "stdout",
     "output_type": "stream",
     "text": [
      "['SLOPE']\n",
      "['WSAREA', 'SLOPE']\n",
      "['WSAREA', 'TMAX', 'SLOPE']\n",
      "['WSAREA', 'TMAX', 'SLOPE', 'PET']\n",
      "['WSAREA', 'TMAX', 'TMEAN', 'SLOPE', 'PET']\n",
      "['WSAREA', 'TMAX', 'TMEAN', 'SLOPE', 'PET', 'ELEV']\n",
      "['WSAREA', 'PRECIP', 'TMAX', 'TMEAN', 'SLOPE', 'PET', 'ELEV']\n",
      "['WSAREA', 'PRECIP', 'TMAX', 'TMEAN', 'TMIN', 'SLOPE', 'PET', 'ELEV']\n",
      "['WSAREA', 'PERM', 'PRECIP', 'TMAX', 'TMEAN', 'TMIN', 'SLOPE', 'PET', 'ELEV']\n",
      "['WSAREA', 'PERM', 'PRECIP', 'TMAX', 'TMEAN', 'TMIN', 'HYDRCON', 'SLOPE', 'PET', 'ELEV']\n",
      "['WSAREA', 'OW', 'PERM', 'PRECIP', 'TMAX', 'TMEAN', 'TMIN', 'HYDRCON', 'SLOPE', 'PET', 'ELEV']\n",
      "['WSAREA', 'OW', 'CLAY', 'PERM', 'PRECIP', 'TMAX', 'TMEAN', 'TMIN', 'HYDRCON', 'SLOPE', 'PET', 'ELEV']\n",
      "['WSAREA', 'OW', 'RD', 'CLAY', 'PERM', 'PRECIP', 'TMAX', 'TMEAN', 'TMIN', 'HYDRCON', 'SLOPE', 'PET', 'ELEV']\n",
      "['WSAREA', 'OW', 'RD', 'CLAY', 'WTDEP', 'PERM', 'PRECIP', 'TMAX', 'TMEAN', 'TMIN', 'HYDRCON', 'SLOPE', 'PET', 'ELEV']\n",
      "['WSAREA', 'OW', 'RD', 'CLAY', 'WTDEP', 'PERM', 'PRECIP', 'TMAX', 'TMEAN', 'TMIN', 'HYDRCON', 'SLOPE', 'PET', 'ARI', 'ELEV']\n",
      "['WSAREA', 'OW', 'RD', 'CLAY', 'SAND', 'WTDEP', 'PERM', 'PRECIP', 'TMAX', 'TMEAN', 'TMIN', 'HYDRCON', 'SLOPE', 'PET', 'ARI', 'ELEV']\n",
      "['WSAREA', 'OW', 'RD', 'CLAY', 'SAND', 'RCKDEP', 'WTDEP', 'PERM', 'PRECIP', 'TMAX', 'TMEAN', 'TMIN', 'HYDRCON', 'SLOPE', 'PET', 'ARI', 'ELEV']\n",
      "['WSAREA', 'DAM', 'OW', 'RD', 'CLAY', 'SAND', 'RCKDEP', 'WTDEP', 'PERM', 'PRECIP', 'TMAX', 'TMEAN', 'TMIN', 'HYDRCON', 'SLOPE', 'PET', 'ARI', 'ELEV']\n",
      "['WSAREA', 'DAM', 'IMP', 'OW', 'RD', 'CLAY', 'SAND', 'RCKDEP', 'WTDEP', 'PERM', 'PRECIP', 'TMAX', 'TMEAN', 'TMIN', 'HYDRCON', 'SLOPE', 'PET', 'ARI', 'ELEV']\n"
     ]
    }
   ],
   "source": [
    "# USE RFE to select the best combination of features\n",
    "est = ensemble.ExtraTreesRegressor(min_samples_split=2, n_estimators=175, random_state=randomseed)\n",
    "# est = ensemble.ExtraTreesRegressor(min_samples_split=2, n_estimators=250, random_state=randomseed)\n",
    "feat_list_dict = OrderedDict()\n",
    "for i in range(1,20):\n",
    "    rfe = RFE(estimator=est, n_features_to_select=i, step=1)\n",
    "    rfe.fit(X_train, y_train)\n",
    "\n",
    "    selected = []\n",
    "    for v in zip(X.columns, rfe.ranking_):\n",
    "        if v[1]==1: #selected features will be give 1 ranking\n",
    "            # append the column name of selected feature\n",
    "            selected.append(v[0])\n",
    "    print(selected)\n",
    "    # Index by number of features and save the selected features\n",
    "    feat_list_dict[len(selected)] = selected"
   ]
  },
  {
   "cell_type": "code",
   "execution_count": 10,
   "metadata": {},
   "outputs": [
    {
     "name": "stdout",
     "output_type": "stream",
     "text": [
      "['SLOPE'] 0.1039647402222883\n",
      "['WSAREA', 'SLOPE'] 0.42836357105388473\n",
      "['WSAREA', 'TMAX', 'SLOPE'] 0.611217637391287\n",
      "['WSAREA', 'TMAX', 'SLOPE', 'PET'] 0.6416649030445327\n",
      "['WSAREA', 'TMAX', 'TMEAN', 'SLOPE', 'PET'] 0.6528440086823092\n",
      "['WSAREA', 'TMAX', 'TMEAN', 'SLOPE', 'PET', 'ELEV'] 0.6511060421933927\n",
      "['WSAREA', 'PRECIP', 'TMAX', 'TMEAN', 'SLOPE', 'PET', 'ELEV'] 0.6632168931810839\n",
      "['WSAREA', 'PRECIP', 'TMAX', 'TMEAN', 'TMIN', 'SLOPE', 'PET', 'ELEV'] 0.6717963119884874\n",
      "['WSAREA', 'PERM', 'PRECIP', 'TMAX', 'TMEAN', 'TMIN', 'SLOPE', 'PET', 'ELEV'] 0.6671002249440346\n",
      "['WSAREA', 'PERM', 'PRECIP', 'TMAX', 'TMEAN', 'TMIN', 'HYDRCON', 'SLOPE', 'PET', 'ELEV'] 0.6592141831828656\n",
      "['WSAREA', 'OW', 'PERM', 'PRECIP', 'TMAX', 'TMEAN', 'TMIN', 'HYDRCON', 'SLOPE', 'PET', 'ELEV'] 0.6629485497682179\n",
      "['WSAREA', 'OW', 'CLAY', 'PERM', 'PRECIP', 'TMAX', 'TMEAN', 'TMIN', 'HYDRCON', 'SLOPE', 'PET', 'ELEV'] 0.6602790568835009\n",
      "['WSAREA', 'OW', 'RD', 'CLAY', 'PERM', 'PRECIP', 'TMAX', 'TMEAN', 'TMIN', 'HYDRCON', 'SLOPE', 'PET', 'ELEV'] 0.6570674412421821\n",
      "['WSAREA', 'OW', 'RD', 'CLAY', 'WTDEP', 'PERM', 'PRECIP', 'TMAX', 'TMEAN', 'TMIN', 'HYDRCON', 'SLOPE', 'PET', 'ELEV'] 0.6533723849846621\n",
      "['WSAREA', 'OW', 'RD', 'CLAY', 'WTDEP', 'PERM', 'PRECIP', 'TMAX', 'TMEAN', 'TMIN', 'HYDRCON', 'SLOPE', 'PET', 'ARI', 'ELEV'] 0.6550201768390445\n",
      "['WSAREA', 'OW', 'RD', 'CLAY', 'SAND', 'WTDEP', 'PERM', 'PRECIP', 'TMAX', 'TMEAN', 'TMIN', 'HYDRCON', 'SLOPE', 'PET', 'ARI', 'ELEV'] 0.6539484060639714\n",
      "['WSAREA', 'OW', 'RD', 'CLAY', 'SAND', 'RCKDEP', 'WTDEP', 'PERM', 'PRECIP', 'TMAX', 'TMEAN', 'TMIN', 'HYDRCON', 'SLOPE', 'PET', 'ARI', 'ELEV'] 0.6594740601901203\n",
      "['WSAREA', 'DAM', 'OW', 'RD', 'CLAY', 'SAND', 'RCKDEP', 'WTDEP', 'PERM', 'PRECIP', 'TMAX', 'TMEAN', 'TMIN', 'HYDRCON', 'SLOPE', 'PET', 'ARI', 'ELEV'] 0.6628797802190365\n",
      "['WSAREA', 'DAM', 'IMP', 'OW', 'RD', 'CLAY', 'SAND', 'RCKDEP', 'WTDEP', 'PERM', 'PRECIP', 'TMAX', 'TMEAN', 'TMIN', 'HYDRCON', 'SLOPE', 'PET', 'ARI', 'ELEV'] 0.6577958232987752\n"
     ]
    }
   ],
   "source": [
    "# Save this dict; either through pickle or converting to dataframe\n",
    "feat_list_df = pd.DataFrame.from_dict(dict(feat_list_dict), orient='index')\n",
    "# Add a new column for saving scores; \n",
    "# we will save the predicted values here for each combintion of features obtained from RFE\n",
    "feat_list_df['test_score'] = np.nan\n",
    "\n",
    "# save all these predicted velocity outputs\n",
    "# then run model on each combination to see the performance\n",
    "res = OrderedDict()\n",
    "# est = ensemble.ExtraTreesRegressor(min_samples_split=2, n_estimators=200, random_state=randomseed)\n",
    "# use the same estimator as above\n",
    "for row in feat_list_dict:\n",
    "    sel_features = feat_list_dict[row] #here row seems to be key\n",
    "    est = ensemble.ExtraTreesRegressor(min_samples_split=2, n_estimators=250, random_state=randomseed) #Moved from outside to inside\n",
    "    ts = k_fold_val(est, sel_features)\n",
    "    print(feat_list_dict[row], ts)\n",
    "    features = ', '.join(sel_features)\n",
    "    res[features] = ts"
   ]
  },
  {
   "cell_type": "code",
   "execution_count": 11,
   "metadata": {},
   "outputs": [
    {
     "data": {
      "text/html": [
       "<div>\n",
       "<style scoped>\n",
       "    .dataframe tbody tr th:only-of-type {\n",
       "        vertical-align: middle;\n",
       "    }\n",
       "\n",
       "    .dataframe tbody tr th {\n",
       "        vertical-align: top;\n",
       "    }\n",
       "\n",
       "    .dataframe thead th {\n",
       "        text-align: right;\n",
       "    }\n",
       "</style>\n",
       "<table border=\"1\" class=\"dataframe\">\n",
       "  <thead>\n",
       "    <tr style=\"text-align: right;\">\n",
       "      <th></th>\n",
       "      <th>score</th>\n",
       "    </tr>\n",
       "  </thead>\n",
       "  <tbody>\n",
       "    <tr>\n",
       "      <th>SLOPE</th>\n",
       "      <td>0.103965</td>\n",
       "    </tr>\n",
       "    <tr>\n",
       "      <th>WSAREA, SLOPE</th>\n",
       "      <td>0.428364</td>\n",
       "    </tr>\n",
       "    <tr>\n",
       "      <th>WSAREA, TMAX, SLOPE</th>\n",
       "      <td>0.611218</td>\n",
       "    </tr>\n",
       "    <tr>\n",
       "      <th>WSAREA, TMAX, SLOPE, PET</th>\n",
       "      <td>0.641665</td>\n",
       "    </tr>\n",
       "    <tr>\n",
       "      <th>WSAREA, TMAX, TMEAN, SLOPE, PET</th>\n",
       "      <td>0.652844</td>\n",
       "    </tr>\n",
       "    <tr>\n",
       "      <th>WSAREA, TMAX, TMEAN, SLOPE, PET, ELEV</th>\n",
       "      <td>0.651106</td>\n",
       "    </tr>\n",
       "    <tr>\n",
       "      <th>WSAREA, PRECIP, TMAX, TMEAN, SLOPE, PET, ELEV</th>\n",
       "      <td>0.663217</td>\n",
       "    </tr>\n",
       "    <tr>\n",
       "      <th>WSAREA, PRECIP, TMAX, TMEAN, TMIN, SLOPE, PET, ELEV</th>\n",
       "      <td>0.671796</td>\n",
       "    </tr>\n",
       "    <tr>\n",
       "      <th>WSAREA, PERM, PRECIP, TMAX, TMEAN, TMIN, SLOPE, PET, ELEV</th>\n",
       "      <td>0.667100</td>\n",
       "    </tr>\n",
       "    <tr>\n",
       "      <th>WSAREA, PERM, PRECIP, TMAX, TMEAN, TMIN, HYDRCON, SLOPE, PET, ELEV</th>\n",
       "      <td>0.659214</td>\n",
       "    </tr>\n",
       "    <tr>\n",
       "      <th>WSAREA, OW, PERM, PRECIP, TMAX, TMEAN, TMIN, HYDRCON, SLOPE, PET, ELEV</th>\n",
       "      <td>0.662949</td>\n",
       "    </tr>\n",
       "    <tr>\n",
       "      <th>WSAREA, OW, CLAY, PERM, PRECIP, TMAX, TMEAN, TMIN, HYDRCON, SLOPE, PET, ELEV</th>\n",
       "      <td>0.660279</td>\n",
       "    </tr>\n",
       "    <tr>\n",
       "      <th>WSAREA, OW, RD, CLAY, PERM, PRECIP, TMAX, TMEAN, TMIN, HYDRCON, SLOPE, PET, ELEV</th>\n",
       "      <td>0.657067</td>\n",
       "    </tr>\n",
       "    <tr>\n",
       "      <th>WSAREA, OW, RD, CLAY, WTDEP, PERM, PRECIP, TMAX, TMEAN, TMIN, HYDRCON, SLOPE, PET, ELEV</th>\n",
       "      <td>0.653372</td>\n",
       "    </tr>\n",
       "    <tr>\n",
       "      <th>WSAREA, OW, RD, CLAY, WTDEP, PERM, PRECIP, TMAX, TMEAN, TMIN, HYDRCON, SLOPE, PET, ARI, ELEV</th>\n",
       "      <td>0.655020</td>\n",
       "    </tr>\n",
       "    <tr>\n",
       "      <th>WSAREA, OW, RD, CLAY, SAND, WTDEP, PERM, PRECIP, TMAX, TMEAN, TMIN, HYDRCON, SLOPE, PET, ARI, ELEV</th>\n",
       "      <td>0.653948</td>\n",
       "    </tr>\n",
       "    <tr>\n",
       "      <th>WSAREA, OW, RD, CLAY, SAND, RCKDEP, WTDEP, PERM, PRECIP, TMAX, TMEAN, TMIN, HYDRCON, SLOPE, PET, ARI, ELEV</th>\n",
       "      <td>0.659474</td>\n",
       "    </tr>\n",
       "    <tr>\n",
       "      <th>WSAREA, DAM, OW, RD, CLAY, SAND, RCKDEP, WTDEP, PERM, PRECIP, TMAX, TMEAN, TMIN, HYDRCON, SLOPE, PET, ARI, ELEV</th>\n",
       "      <td>0.662880</td>\n",
       "    </tr>\n",
       "    <tr>\n",
       "      <th>WSAREA, DAM, IMP, OW, RD, CLAY, SAND, RCKDEP, WTDEP, PERM, PRECIP, TMAX, TMEAN, TMIN, HYDRCON, SLOPE, PET, ARI, ELEV</th>\n",
       "      <td>0.657796</td>\n",
       "    </tr>\n",
       "  </tbody>\n",
       "</table>\n",
       "</div>"
      ],
      "text/plain": [
       "                                                       score\n",
       "SLOPE                                               0.103965\n",
       "WSAREA, SLOPE                                       0.428364\n",
       "WSAREA, TMAX, SLOPE                                 0.611218\n",
       "WSAREA, TMAX, SLOPE, PET                            0.641665\n",
       "WSAREA, TMAX, TMEAN, SLOPE, PET                     0.652844\n",
       "WSAREA, TMAX, TMEAN, SLOPE, PET, ELEV               0.651106\n",
       "WSAREA, PRECIP, TMAX, TMEAN, SLOPE, PET, ELEV       0.663217\n",
       "WSAREA, PRECIP, TMAX, TMEAN, TMIN, SLOPE, PET, ...  0.671796\n",
       "WSAREA, PERM, PRECIP, TMAX, TMEAN, TMIN, SLOPE,...  0.667100\n",
       "WSAREA, PERM, PRECIP, TMAX, TMEAN, TMIN, HYDRCO...  0.659214\n",
       "WSAREA, OW, PERM, PRECIP, TMAX, TMEAN, TMIN, HY...  0.662949\n",
       "WSAREA, OW, CLAY, PERM, PRECIP, TMAX, TMEAN, TM...  0.660279\n",
       "WSAREA, OW, RD, CLAY, PERM, PRECIP, TMAX, TMEAN...  0.657067\n",
       "WSAREA, OW, RD, CLAY, WTDEP, PERM, PRECIP, TMAX...  0.653372\n",
       "WSAREA, OW, RD, CLAY, WTDEP, PERM, PRECIP, TMAX...  0.655020\n",
       "WSAREA, OW, RD, CLAY, SAND, WTDEP, PERM, PRECIP...  0.653948\n",
       "WSAREA, OW, RD, CLAY, SAND, RCKDEP, WTDEP, PERM...  0.659474\n",
       "WSAREA, DAM, OW, RD, CLAY, SAND, RCKDEP, WTDEP,...  0.662880\n",
       "WSAREA, DAM, IMP, OW, RD, CLAY, SAND, RCKDEP, W...  0.657796"
      ]
     },
     "execution_count": 11,
     "metadata": {},
     "output_type": "execute_result"
    }
   ],
   "source": [
    "res = dict(res)\n",
    "res_df = pd.DataFrame.from_dict(res, orient='index')\n",
    "res_df.columns = ['score']\n",
    "res_df"
   ]
  },
  {
   "cell_type": "code",
   "execution_count": 12,
   "metadata": {},
   "outputs": [],
   "source": [
    "#  Looks like this used for paper finally\n",
    "import pickle\n",
    "fp = open('results/rfe_dict.pkl', 'wb')\n",
    "# pickle.dump(res, fp, protocol=2)\n",
    "pickle.dump(res, fp)\n",
    "fp.close()"
   ]
  },
  {
   "cell_type": "code",
   "execution_count": null,
   "metadata": {},
   "outputs": [],
   "source": []
  }
 ],
 "metadata": {
  "kernelspec": {
   "display_name": "Python 3",
   "language": "python",
   "name": "python3"
  },
  "language_info": {
   "codemirror_mode": {
    "name": "ipython",
    "version": 3
   },
   "file_extension": ".py",
   "mimetype": "text/x-python",
   "name": "python",
   "nbconvert_exporter": "python",
   "pygments_lexer": "ipython3",
   "version": "3.6.10"
  }
 },
 "nbformat": 4,
 "nbformat_minor": 4
}
