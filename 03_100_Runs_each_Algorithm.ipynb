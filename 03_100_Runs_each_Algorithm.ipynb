{
 "cells": [
  {
   "cell_type": "markdown",
   "metadata": {},
   "source": [
    "## 100 Runs for each ML Algorithm\n",
    "- Run each model 100 times to get estimate of model performance\n",
    "- Basically, we want to make a statement that the results we get in not merely due to change (lucky random number pick!), but indeed the results are repeatable\n",
    "- Hence, we run the algorithm on 100 random partitions, one at a time\n",
    "\n",
    "WARNING: Takes Hours to days of runtime  \n",
    "GBRT takes the most time\n",
    "\n",
    "Bidhya N Yadav  \n",
    "Last Run (Feb, 2020)"
   ]
  },
  {
   "cell_type": "code",
   "execution_count": 1,
   "metadata": {},
   "outputs": [],
   "source": [
    "%matplotlib inline"
   ]
  },
  {
   "cell_type": "code",
   "execution_count": 2,
   "metadata": {},
   "outputs": [],
   "source": [
    "import math\n",
    "import matplotlib.pyplot as plt\n",
    "\n",
    "import os, sys, datetime\n",
    "import numpy as np\n",
    "import pandas as pd\n",
    "\n",
    "from giuh_helpers import tic, toc\n",
    "\n",
    "# Set a random seed so that experiment can be replicated\n",
    "randomseed = 28\n",
    "np.random.seed(randomseed)"
   ]
  },
  {
   "cell_type": "code",
   "execution_count": 3,
   "metadata": {},
   "outputs": [],
   "source": [
    "# Using machine learning\n",
    "from sklearn import metrics\n",
    "from sklearn.preprocessing import StandardScaler\n",
    "\n",
    "from sklearn import linear_model\n",
    "from sklearn import svm\n",
    "from sklearn import ensemble\n",
    "\n",
    "from sklearn.model_selection import train_test_split\n",
    "from sklearn.model_selection import cross_val_score, KFold #KFold is changed\n",
    "from sklearn.model_selection import GridSearchCV\n",
    "\n",
    "cv = KFold(n_splits=10, shuffle=True,random_state=randomseed)"
   ]
  },
  {
   "cell_type": "code",
   "execution_count": 4,
   "metadata": {},
   "outputs": [],
   "source": [
    "# Folder to save figures\n",
    "fig_folder = 'journal_figs/velocity/100_runs'\n",
    "if not os.path.exists(fig_folder):\n",
    "    os.makedirs(fig_folder)\n",
    "    \n",
    "# Folder to save results\n",
    "results_folder = 'results'\n",
    "if not os.path.exists(results_folder):\n",
    "    os.makedirs(results_folder)"
   ]
  },
  {
   "cell_type": "markdown",
   "metadata": {},
   "source": [
    "# Part 1: Run each algorithm for 100 times"
   ]
  },
  {
   "cell_type": "markdown",
   "metadata": {},
   "source": [
    "## Load saved data from csv file"
   ]
  },
  {
   "cell_type": "code",
   "execution_count": 5,
   "metadata": {},
   "outputs": [],
   "source": [
    "# load data of regressors\n",
    "df = pd.read_csv('data/velocity_regressors3.csv', index_col='site_no')\n",
    "df.index = df.index.astype(str).str.zfill(8)\n",
    "# Organize data in ascending order of correlation\n",
    "ind = df.corr().VELOCITY.sort_values(ascending=False).index\n",
    "df = df[ind]"
   ]
  },
  {
   "cell_type": "code",
   "execution_count": 6,
   "metadata": {},
   "outputs": [],
   "source": [
    "data = df[['VELOCITY', 'SLOPE', 'WSAREA', 'ELEV', 'TMEAN', 'PRECIP', 'CLAY']] #, 'CLAY'\n",
    "response = 'VELOCITY' #'vel_mean'# data = df[['slope', 'ElevWs', 'TmeanWs', 'cn', 'WtDepWs']]\n",
    "y = data[response]\n",
    "X = data.drop([response], axis=1)#.values"
   ]
  },
  {
   "cell_type": "markdown",
   "metadata": {},
   "source": [
    "# Fit Each algorithm separately \n",
    "Save the training/test score and also merge them together"
   ]
  },
  {
   "cell_type": "code",
   "execution_count": 7,
   "metadata": {},
   "outputs": [],
   "source": [
    "# Evaluate the impact of data splitting (Random seed)\n",
    "def k_fold_val(grid, txt_lbl=None):\n",
    "    random_seeds = np.arange(100)\n",
    "    seed_dict = {}\n",
    "    for random_seed in random_seeds:\n",
    "        res = {}\n",
    "        X_train, X_test, y_train, y_test = train_test_split(X, y, test_size=.2, random_state=random_seed)\n",
    "        grid.fit(X_train, y_train)\n",
    "\n",
    "        # Accurracy/error metrics\n",
    "        model_name = grid.estimator.__repr__().split('(')[0]\n",
    "        res['model'] = model_name\n",
    "        res['val'] = grid.best_score_\n",
    "        res['train'] = grid.score(X_train, y_train)\n",
    "        res['test'] = grid.score(X_test, y_test)\n",
    "        \n",
    "        test_pred = grid.predict(X_test)\n",
    "        res['RMSE'] = np.sqrt(metrics.mean_squared_error(y_test, test_pred))\n",
    "\n",
    "        seed_dict[random_seed] = res\n",
    "    # Convert to datafram\n",
    "    seed_df = pd.DataFrame.from_dict(seed_dict, orient='index')\n",
    "    seed_df.index.name = 'seed'\n",
    "\n",
    "    seed_df.to_csv(f'{results_folder}/{model_name}.csv') #should always pick the max seed value\n",
    "    return seed_df"
   ]
  },
  {
   "cell_type": "code",
   "execution_count": null,
   "metadata": {},
   "outputs": [],
   "source": [
    "tic()\n",
    "param_grid = {'n_estimators': np.arange(25, 301, 25)}\n",
    "grid = GridSearchCV(ensemble.RandomForestRegressor(oob_score=True, random_state=randomseed), \n",
    "                    param_grid=param_grid, cv=cv, n_jobs=-1)\n",
    "k_fold_val(grid, txt_lbl='d')  #d\n",
    "toc()"
   ]
  },
  {
   "cell_type": "code",
   "execution_count": null,
   "metadata": {},
   "outputs": [],
   "source": [
    "# Extra-Trees\n",
    "param_grid = {'n_estimators': np.arange(25, 301, 25)}\n",
    "grid = GridSearchCV(ensemble.ExtraTreesRegressor(min_samples_leaf = 2), param_grid=param_grid, cv=cv, n_jobs=-1)\n",
    "k_fold_val(grid, txt_lbl='e')\n",
    "toc()"
   ]
  },
  {
   "cell_type": "code",
   "execution_count": 11,
   "metadata": {},
   "outputs": [],
   "source": [
    "# Elapsed time is 25.12 minutes. on ufhpc"
   ]
  },
  {
   "cell_type": "raw",
   "metadata": {},
   "source": [
    "# Careful befor running this code: takes hours to days depending on number of processors available\n",
    "tic()\n",
    "param_grid = {'n_estimators': np.arange(0, 5001, 25)[1:]} #250\n",
    "grid = GridSearchCV(ensemble.GradientBoostingRegressor(learning_rate=0.001, max_depth=3), param_grid=param_grid, cv=cv, n_jobs=-1)\n",
    "k_fold_val(grid, txt_lbl='f')\n",
    "toc()"
   ]
  },
  {
   "cell_type": "markdown",
   "metadata": {},
   "source": [
    "---"
   ]
  },
  {
   "cell_type": "markdown",
   "metadata": {},
   "source": [
    "# Part 2: Plotting only\n",
    "So somewhat independed of part 1  \n",
    "After Running everything above to get results in csv file"
   ]
  },
  {
   "cell_type": "code",
   "execution_count": 9,
   "metadata": {},
   "outputs": [],
   "source": [
    "# Read all dataframes\n",
    "models = ['ExtraTreesRegressor', 'RandomForestRegressor', 'GradientBoostingRegressor']\n",
    "df1 = pd.read_csv(f'results/{models[0]}.csv', index_col='seed')\n",
    "df2 = pd.read_csv(f'results/{models[1]}.csv', index_col='seed')\n",
    "df3 = pd.read_csv(f'results/{models[2]}.csv', index_col='seed')\n",
    "\n",
    "# Concatenate results of all the ML algorithms together\n",
    "df = pd.read_csv(f'results/{models[0]}.csv', index_col='seed') #Read one Dataframe\n",
    "# Then read the remaining dataframes and concatenate to the first df\n",
    "for model in models[1:]:\n",
    "    temp_df = pd.read_csv('results/{}.csv'.format(model), index_col='seed')\n",
    "    df = pd.concat([df, temp_df])\n",
    "df = df[['train', 'test', 'RMSE', 'model']]\n",
    "\n",
    "# To remove the regressor portion from model name\n",
    "df['model'] = df['model'].apply(lambda x: x.split('Regressor')[0])\n",
    "# Group by each of the models(ET, RF etc)\n",
    "dfg = df.groupby('model', sort=False) #not sorted so original order of row index retained"
   ]
  },
  {
   "cell_type": "code",
   "execution_count": 10,
   "metadata": {},
   "outputs": [
    {
     "data": {
      "image/png": "[encoded data removed]",
      "text/plain": [
       "<Figure size 180x180 with 1 Axes>"
      ]
     },
     "metadata": {
      "needs_background": "light"
     },
     "output_type": "display_data"
    },
    {
     "data": {
      "image/png": "[encoded data removed]",
      "text/plain": [
       "<Figure size 180x180 with 1 Axes>"
      ]
     },
     "metadata": {
      "needs_background": "light"
     },
     "output_type": "display_data"
    },
    {
     "data": {
      "image/png": "[encoded data removed]",
      "text/plain": [
       "<Figure size 180x180 with 1 Axes>"
      ]
     },
     "metadata": {
      "needs_background": "light"
     },
     "output_type": "display_data"
    }
   ],
   "source": [
    "# Now plot the figures\n",
    "for name, group in dfg:\n",
    "    group[['test']].plot(kind='hist', bins=10, alpha=.9, edgecolor='k', legend=None, color='gray',\n",
    "                         fontsize=12, figsize=(2.5,2.5))\n",
    "    plt.title(name, fontsize=14)\n",
    "    props = dict(boxstyle='round', facecolor='wheat', alpha=0.5)\n",
    "    plt.text(.40, 22, '$R^2$ = {:.2f}'.format(group['test'].mean()), bbox=props, fontsize=10, rotation=0)\n",
    "    plt.xlabel('$R^2$', fontsize=12)\n",
    "    plt.xlim([0.38, 0.72])\n",
    "    plt.xticks([.40, .50, .60, .70])\n",
    "    plt.ylim([0, 27])\n",
    "    plt.yticks([5, 15, 25])\n",
    "    \n",
    "    #plt.savefig(fig_folder + '/{}'.format(name), transparent=True, bbox_inches='tight')"
   ]
  }
 ],
 "metadata": {
  "anaconda-cloud": {},
  "kernelspec": {
   "display_name": "Python 3",
   "language": "python",
   "name": "python3"
  },
  "language_info": {
   "codemirror_mode": {
    "name": "ipython",
    "version": 3
   },
   "file_extension": ".py",
   "mimetype": "text/x-python",
   "name": "python",
   "nbconvert_exporter": "python",
   "pygments_lexer": "ipython3",
   "version": "3.7.6"
  }
 },
 "nbformat": 4,
 "nbformat_minor": 4
}
